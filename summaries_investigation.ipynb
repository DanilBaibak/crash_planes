{
 "cells": [
  {
   "cell_type": "code",
   "execution_count": 1,
   "metadata": {
    "collapsed": true
   },
   "outputs": [],
   "source": [
    "import pandas as pd\n",
    "import numpy as np\n",
    "from collections import Counter\n",
    "import matplotlib.pyplot as plt\n",
    "import seaborn\n",
    "\n",
    "import planecrashinfo_light as pci\n",
    "\n",
    "from sklearn.cluster import KMeans\n",
    "\n",
    "from gensim import corpora, models, utils\n",
    "from gensim.models import TfidfModel, LsiModel\n",
    "\n",
    "import nltk\n",
    "from nltk.corpus import stopwords\n",
    "\n",
    "%matplotlib inline"
   ]
  },
  {
   "cell_type": "markdown",
   "metadata": {},
   "source": [
    "# Raw data"
   ]
  },
  {
   "cell_type": "code",
   "execution_count": 2,
   "metadata": {
    "collapsed": true
   },
   "outputs": [],
   "source": [
    "df = pd.read_csv('data/data.csv')"
   ]
  },
  {
   "cell_type": "markdown",
   "metadata": {},
   "source": [
    "# Clean(er) Data"
   ]
  },
  {
   "cell_type": "code",
   "execution_count": 3,
   "metadata": {
    "collapsed": false,
    "scrolled": true
   },
   "outputs": [
    {
     "data": {
      "text/html": [
       "<div>\n",
       "<table border=\"1\" class=\"dataframe\">\n",
       "  <thead>\n",
       "    <tr style=\"text-align: right;\">\n",
       "      <th></th>\n",
       "      <th>Time</th>\n",
       "      <th>Location</th>\n",
       "      <th>Operator</th>\n",
       "      <th>Route</th>\n",
       "      <th>AC_Type</th>\n",
       "      <th>Aboard</th>\n",
       "      <th>Fatalities</th>\n",
       "      <th>Ground</th>\n",
       "      <th>Summary</th>\n",
       "      <th>Origin</th>\n",
       "      <th>Destination</th>\n",
       "      <th>Fatalities_total</th>\n",
       "      <th>Location_Country</th>\n",
       "      <th>Accident_type</th>\n",
       "    </tr>\n",
       "    <tr>\n",
       "      <th>Date</th>\n",
       "      <th></th>\n",
       "      <th></th>\n",
       "      <th></th>\n",
       "      <th></th>\n",
       "      <th></th>\n",
       "      <th></th>\n",
       "      <th></th>\n",
       "      <th></th>\n",
       "      <th></th>\n",
       "      <th></th>\n",
       "      <th></th>\n",
       "      <th></th>\n",
       "      <th></th>\n",
       "      <th></th>\n",
       "    </tr>\n",
       "  </thead>\n",
       "  <tbody>\n",
       "    <tr>\n",
       "      <th>1921-02-03</th>\n",
       "      <td>NaN</td>\n",
       "      <td>Mendotta, Minnesota</td>\n",
       "      <td>US Aerial Mail Service</td>\n",
       "      <td>NaN</td>\n",
       "      <td>De Havilland DH-4</td>\n",
       "      <td>1 (passengers:0 crew:1)</td>\n",
       "      <td>1 (passengers:0 crew:1)</td>\n",
       "      <td>0.0</td>\n",
       "      <td>Shortly after takeoff from Minneapolis-World C...</td>\n",
       "      <td>NaN</td>\n",
       "      <td>NaN</td>\n",
       "      <td>1.0</td>\n",
       "      <td>USA</td>\n",
       "      <td>0</td>\n",
       "    </tr>\n",
       "    <tr>\n",
       "      <th>1921-02-09</th>\n",
       "      <td>NaN</td>\n",
       "      <td>La Crosse, Wisconsin</td>\n",
       "      <td>US Aerial Mail Service</td>\n",
       "      <td>NaN</td>\n",
       "      <td>Junkers F-13</td>\n",
       "      <td>3 (passengers:0 crew:3)</td>\n",
       "      <td>3 (passengers:0 crew:3)</td>\n",
       "      <td>0.0</td>\n",
       "      <td>Crashed for unknown reasons. Both pilots and t...</td>\n",
       "      <td>NaN</td>\n",
       "      <td>NaN</td>\n",
       "      <td>3.0</td>\n",
       "      <td>USA</td>\n",
       "      <td>0</td>\n",
       "    </tr>\n",
       "    <tr>\n",
       "      <th>1921-02-15</th>\n",
       "      <td>NaN</td>\n",
       "      <td>Gibraltar</td>\n",
       "      <td>Aeropostale</td>\n",
       "      <td>NaN</td>\n",
       "      <td>Breguet 14</td>\n",
       "      <td>2 (passengers:0 crew:2)</td>\n",
       "      <td>2 (passengers:0 crew:2)</td>\n",
       "      <td>0.0</td>\n",
       "      <td>The mail fligh encountered poor weather condit...</td>\n",
       "      <td>NaN</td>\n",
       "      <td>NaN</td>\n",
       "      <td>2.0</td>\n",
       "      <td>Gibraltar</td>\n",
       "      <td>0</td>\n",
       "    </tr>\n",
       "    <tr>\n",
       "      <th>1921-02-22</th>\n",
       "      <td>NaN</td>\n",
       "      <td>Elko, Nevada</td>\n",
       "      <td>US Aerial Mail Service</td>\n",
       "      <td>NaN</td>\n",
       "      <td>De Havilland DH-4</td>\n",
       "      <td>1 (passengers:0 crew:1)</td>\n",
       "      <td>1 (passengers:0 crew:1)</td>\n",
       "      <td>0.0</td>\n",
       "      <td>Shortly after taking off, the aircraft stalled...</td>\n",
       "      <td>NaN</td>\n",
       "      <td>NaN</td>\n",
       "      <td>1.0</td>\n",
       "      <td>USA</td>\n",
       "      <td>0</td>\n",
       "    </tr>\n",
       "    <tr>\n",
       "      <th>1921-04-06</th>\n",
       "      <td>NaN</td>\n",
       "      <td>Point Cook, Australia</td>\n",
       "      <td>Military - Royal Australian Air Force</td>\n",
       "      <td>NaN</td>\n",
       "      <td>Avro 504</td>\n",
       "      <td>2 (passengers:0 crew:0)</td>\n",
       "      <td>2 (passengers:0 crew:0)</td>\n",
       "      <td>0.0</td>\n",
       "      <td>Shortly after taking off on a training flight,...</td>\n",
       "      <td>NaN</td>\n",
       "      <td>NaN</td>\n",
       "      <td>2.0</td>\n",
       "      <td>Australia</td>\n",
       "      <td>0</td>\n",
       "    </tr>\n",
       "  </tbody>\n",
       "</table>\n",
       "</div>"
      ],
      "text/plain": [
       "           Time               Location                               Operator  \\\n",
       "Date                                                                            \n",
       "1921-02-03  NaN    Mendotta, Minnesota                 US Aerial Mail Service   \n",
       "1921-02-09  NaN   La Crosse, Wisconsin                 US Aerial Mail Service   \n",
       "1921-02-15  NaN              Gibraltar                            Aeropostale   \n",
       "1921-02-22  NaN           Elko, Nevada                 US Aerial Mail Service   \n",
       "1921-04-06  NaN  Point Cook, Australia  Military - Royal Australian Air Force   \n",
       "\n",
       "           Route            AC_Type                   Aboard  \\\n",
       "Date                                                           \n",
       "1921-02-03   NaN  De Havilland DH-4  1 (passengers:0 crew:1)   \n",
       "1921-02-09   NaN       Junkers F-13  3 (passengers:0 crew:3)   \n",
       "1921-02-15   NaN         Breguet 14  2 (passengers:0 crew:2)   \n",
       "1921-02-22   NaN  De Havilland DH-4  1 (passengers:0 crew:1)   \n",
       "1921-04-06   NaN           Avro 504  2 (passengers:0 crew:0)   \n",
       "\n",
       "                         Fatalities  Ground  \\\n",
       "Date                                          \n",
       "1921-02-03  1 (passengers:0 crew:1)     0.0   \n",
       "1921-02-09  3 (passengers:0 crew:3)     0.0   \n",
       "1921-02-15  2 (passengers:0 crew:2)     0.0   \n",
       "1921-02-22  1 (passengers:0 crew:1)     0.0   \n",
       "1921-04-06  2 (passengers:0 crew:0)     0.0   \n",
       "\n",
       "                                                      Summary Origin  \\\n",
       "Date                                                                   \n",
       "1921-02-03  Shortly after takeoff from Minneapolis-World C...    NaN   \n",
       "1921-02-09  Crashed for unknown reasons. Both pilots and t...    NaN   \n",
       "1921-02-15  The mail fligh encountered poor weather condit...    NaN   \n",
       "1921-02-22  Shortly after taking off, the aircraft stalled...    NaN   \n",
       "1921-04-06  Shortly after taking off on a training flight,...    NaN   \n",
       "\n",
       "           Destination  Fatalities_total Location_Country  Accident_type  \n",
       "Date                                                                      \n",
       "1921-02-03         NaN               1.0              USA              0  \n",
       "1921-02-09         NaN               3.0              USA              0  \n",
       "1921-02-15         NaN               2.0        Gibraltar              0  \n",
       "1921-02-22         NaN               1.0              USA              0  \n",
       "1921-04-06         NaN               2.0        Australia              0  "
      ]
     },
     "execution_count": 3,
     "metadata": {},
     "output_type": "execute_result"
    }
   ],
   "source": [
    "df = pci.clean_database(df)\n",
    "df.head()"
   ]
  },
  {
   "cell_type": "code",
   "execution_count": 5,
   "metadata": {
    "collapsed": false
   },
   "outputs": [
    {
     "name": "stdout",
     "output_type": "stream",
     "text": [
      "Total number of the data: 5686\n",
      "Number of the not empty summaries: 231\n"
     ]
    }
   ],
   "source": [
    "print('Total number of the data: {}'.format(df.shape[0]))\n",
    "print('Number of the not empty summaries: {}'.format(df[df.Summary.isnull()].shape[0]))"
   ]
  },
  {
   "cell_type": "markdown",
   "metadata": {},
   "source": [
    "## Let's try to cluster summaries\n",
    "We'll use Latent Dirichlet allocation (LDA). LDA is a topic model that generates topics based on word frequency from a set of documents. LDA is particularly useful for finding reasonably accurate mixtures of topics within a given document set."
   ]
  },
  {
   "cell_type": "code",
   "execution_count": 6,
   "metadata": {
    "collapsed": true
   },
   "outputs": [],
   "source": [
    "# set data without summary as empty row\n",
    "df.Summary.fillna('', inplace=True)"
   ]
  },
  {
   "cell_type": "code",
   "execution_count": 7,
   "metadata": {
    "collapsed": true
   },
   "outputs": [],
   "source": [
    "splitter = nltk.data.load('tokenizers/punkt/english.pickle')\n",
    "tokenizer = nltk.tokenize.TreebankWordTokenizer()\n",
    "stopset = set(stopwords.words('english'))"
   ]
  },
  {
   "cell_type": "code",
   "execution_count": 8,
   "metadata": {
    "collapsed": true
   },
   "outputs": [],
   "source": [
    "def text_to_words(text):\n",
    "texts = [text_to_words(text) for text in df.Summary.values]    tokenized_sentences = []\n",
    "    sentences = splitter.tokenize(text)\n",
    "    for sentence in sentences:\n",
    "        tokens = []\n",
    "        # remove punctuation and stopwords\n",
    "        for token in utils.tokenize(sentence, lowercase=True, deacc=True, errors=\"ignore\"):\n",
    "            if token not in stopset:                \n",
    "                tokens.append(token)\n",
    "                \n",
    "        \n",
    "        tokenized_sentences.extend(tokens)\n",
    "        tokenized_sentences.extend([' '.join(bigram) for bigram in nltk.ngrams(tokens, 2)])\n",
    "\n",
    "    return tokenized_sentences"
   ]
  },
  {
   "cell_type": "code",
   "execution_count": 9,
   "metadata": {
    "collapsed": true
   },
   "outputs": [],
   "source": [
    "texts = [text_to_words(text) for text in df.Summary.values]"
   ]
  },
  {
   "cell_type": "code",
   "execution_count": 10,
   "metadata": {
    "collapsed": true
   },
   "outputs": [],
   "source": [
    "# create dictionary\n",
    "dictionary = corpora.Dictionary(texts)"
   ]
  },
  {
   "cell_type": "code",
   "execution_count": 11,
   "metadata": {
    "collapsed": true
   },
   "outputs": [],
   "source": [
    "# create documents corpus\n",
    "corpus = [dictionary.doc2bow(text) for text in texts]"
   ]
  },
  {
   "cell_type": "markdown",
   "metadata": {},
   "source": [
    "#### And next question is how many clusters do we have? So let's reduce number of the dimensions for visualization"
   ]
  },
  {
   "cell_type": "code",
   "execution_count": 12,
   "metadata": {
    "collapsed": true
   },
   "outputs": [],
   "source": [
    "tfidf = TfidfModel(corpus, normalize=True)\n",
    "corpus_tfidf = tfidf[corpus]"
   ]
  },
  {
   "cell_type": "markdown",
   "metadata": {},
   "source": [
    "We'll use module for Latent Semantic Analysis (aka Latent Semantic Indexing). It implements fast truncated SVD (Singular Value Decomposition)"
   ]
  },
  {
   "cell_type": "code",
   "execution_count": 13,
   "metadata": {
    "collapsed": true
   },
   "outputs": [],
   "source": [
    "# project to 2 dimensions for visualization\n",
    "lsi_model = LsiModel(corpus_tfidf, id2word=dictionary, num_topics=2)"
   ]
  },
  {
   "cell_type": "code",
   "execution_count": 14,
   "metadata": {
    "collapsed": true
   },
   "outputs": [],
   "source": [
    "# save coordinates\n",
    "coords = []\n",
    "\n",
    "for coord in lsi_model[corpus]:\n",
    "    if len(coord) > 1:\n",
    "        coords.append((coord[0][1], coord[1][1]))"
   ]
  },
  {
   "cell_type": "code",
   "execution_count": 15,
   "metadata": {
    "collapsed": true
   },
   "outputs": [],
   "source": [
    "max_clusters = 10\n",
    "clusters_num = range(1, max_clusters + 1)\n",
    "inertias = np.zeros(max_clusters)"
   ]
  },
  {
   "cell_type": "code",
   "execution_count": 16,
   "metadata": {
    "collapsed": true
   },
   "outputs": [],
   "source": [
    "for cluster_num in clusters_num:\n",
    "    kmeans = KMeans(cluster_num).fit(coords)\n",
    "    # \"inertia_\" is sum of distances of samples to their closest cluster center\n",
    "    inertias[cluster_num - 1] = kmeans.inertia_"
   ]
  },
  {
   "cell_type": "code",
   "execution_count": 17,
   "metadata": {
    "collapsed": false
   },
   "outputs": [
    {
     "data": {
      "image/png": "[encoded data removed]",
      "text/plain": [
       "<matplotlib.figure.Figure at 0x7f5d951b72b0>"
      ]
     },
     "metadata": {},
     "output_type": "display_data"
    }
   ],
   "source": [
    "plt.plot(clusters_num, inertias, \"b*-\")\n",
    "\n",
    "plt.ylabel(\"Inertia\")\n",
    "plt.xlabel(\"K\")\n",
    "plt.show()"
   ]
  },
  {
   "cell_type": "code",
   "execution_count": 20,
   "metadata": {
    "collapsed": false,
    "scrolled": false
   },
   "outputs": [],
   "source": [
    "# let's choose number of the clusters as 7\n",
    "final_clusters_number = 7\n",
    "\n",
    "kmeans = KMeans(final_clusters_number).fit(coords)"
   ]
  },
  {
   "cell_type": "code",
   "execution_count": 21,
   "metadata": {
    "collapsed": false
   },
   "outputs": [
    {
     "data": {
      "text/plain": [
       "Counter({0: 1636, 1: 95, 2: 283, 3: 1801, 4: 474, 5: 994, 6: 172})"
      ]
     },
     "execution_count": 21,
     "metadata": {},
     "output_type": "execute_result"
    }
   ],
   "source": [
    "Counter(kmeans.labels_)"
   ]
  },
  {
   "cell_type": "code",
   "execution_count": 22,
   "metadata": {
    "collapsed": false
   },
   "outputs": [
    {
     "data": {
      "image/png": "[encoded data removed]",
      "text/plain": [
       "<matplotlib.figure.Figure at 0x7f5d951b70f0>"
      ]
     },
     "metadata": {},
     "output_type": "display_data"
    }
   ],
   "source": [
    "colors = [\"b\", \"g\", \"r\", \"m\", \"c\", \"y\", \"k\"]\n",
    "\n",
    "for i in range(len(coords)):\n",
    "    plt.scatter(coords[i][0], coords[i][1], c=colors[kmeans.labels_[i]], s=10)\n",
    "    \n",
    "plt.show()"
   ]
  },
  {
   "cell_type": "markdown",
   "metadata": {},
   "source": [
    "#### Build LDA model with *num_topics = 7*"
   ]
  },
  {
   "cell_type": "code",
   "execution_count": 23,
   "metadata": {
    "collapsed": true
   },
   "outputs": [],
   "source": [
    "np.random.seed(42)\n",
    "\n",
    "lda = models.ldamodel.LdaModel(corpus_tfidf, id2word=dictionary, num_topics=final_clusters_number, passes=20)"
   ]
  },
  {
   "cell_type": "code",
   "execution_count": 24,
   "metadata": {
    "collapsed": false,
    "scrolled": true
   },
   "outputs": [
    {
     "data": {
      "text/plain": [
       "[(0,\n",
       "  [('crashed taking', 0.00058215714204599826),\n",
       "   ('mountains', 0.00052240055152475524),\n",
       "   ('crashed mountains', 0.00048495604202086805),\n",
       "   ('undershot', 0.00044098052967701671),\n",
       "   ('undershot runway', 0.00040642654407357383),\n",
       "   ('taking', 0.00040203507284784746),\n",
       "   ('crashed', 0.00036179023195439597),\n",
       "   ('training flight', 0.00035784945391406398),\n",
       "   ('sandstorm', 0.00032198349345969007),\n",
       "   ('double engine', 0.00031387558150468834)]),\n",
       " (1,\n",
       "  [('takeoff', 0.0022587038558559802),\n",
       "   ('engine', 0.001850374525202375),\n",
       "   ('flight', 0.0018440109391168692),\n",
       "   ('crashed takeoff', 0.0017330667957790797),\n",
       "   ('failure', 0.0017173952899291749),\n",
       "   ('weather', 0.0017061733543589806),\n",
       "   ('pilot', 0.0016512408159040067),\n",
       "   ('conditions', 0.0016454000703530918),\n",
       "   ('crashed', 0.0016230672663270875),\n",
       "   ('plane', 0.001583809696625835)]),\n",
       " (2,\n",
       "  [('crashed approach', 0.0012241075794716173),\n",
       "   ('approach', 0.0010130456769587063),\n",
       "   ('runway', 0.00090340995204283658),\n",
       "   ('overran runway', 0.00077459429663213767),\n",
       "   ('overran', 0.00077366483761303522),\n",
       "   ('engine', 0.00075504720486780047),\n",
       "   ('plane', 0.00067460407443757056),\n",
       "   ('missile', 0.00063562357999187385),\n",
       "   ('crashed', 0.00060717141254439935),\n",
       "   ('experiencing engine', 0.00057517102992758274)]),\n",
       " (3,\n",
       "  [('runway', 0.0022017124492540686),\n",
       "   ('approach', 0.0016413974632103728),\n",
       "   ('plane', 0.0015705348308707057),\n",
       "   ('aircraft', 0.0015117198831152596),\n",
       "   ('pilot', 0.0014962081337843132),\n",
       "   ('landing', 0.0014104803289022505),\n",
       "   ('short', 0.0012906871992508938),\n",
       "   ('control', 0.0012746491872410619),\n",
       "   ('short runway', 0.0012063623165585269),\n",
       "   ('crew', 0.0011408451308316751)]),\n",
       " (4,\n",
       "  [('en route', 0.0027933929581007298),\n",
       "   ('en', 0.0027891550806724203),\n",
       "   ('route', 0.0027537139387588377),\n",
       "   ('mountain', 0.0025457033785519115),\n",
       "   ('crashed en', 0.001937317335168485),\n",
       "   ('crashed mountain', 0.0018586090215765758),\n",
       "   ('cargo plane', 0.001834946387938124),\n",
       "   ('cargo', 0.0017503291121360827),\n",
       "   ('plane', 0.001610705071043973),\n",
       "   ('plane crashed', 0.0014873409886676015)]),\n",
       " (5,\n",
       "  [('flight adverse', 0.00088727287188135144),\n",
       "   ('crashed landing', 0.00082801316426026376),\n",
       "   ('crashed take', 0.00055544048228663644),\n",
       "   ('crashed ocean', 0.00051189212699936665),\n",
       "   ('ocean', 0.00038717801211906493),\n",
       "   ('fog low', 0.00035774801948974702),\n",
       "   ('take', 0.0003284920513272673),\n",
       "   ('channel', 0.0003049634789156007),\n",
       "   ('continued vfr', 0.00029914022461035146),\n",
       "   ('english', 0.0002966656115803294)]),\n",
       " (6,\n",
       "  [('shot', 0.00097360014209051853),\n",
       "   ('two', 0.00052423494022860054),\n",
       "   ('military', 0.00051479839453057814),\n",
       "   ('killed', 0.0005141568279766498),\n",
       "   ('air', 0.00049362030008515069),\n",
       "   ('collision', 0.00049351585195158451),\n",
       "   ('forces', 0.00049137801155422882),\n",
       "   ('mid', 0.00046263026992742417),\n",
       "   ('aircraft', 0.00044257514808631064),\n",
       "   ('rebel', 0.00043028591031417796)])]"
      ]
     },
     "execution_count": 24,
     "metadata": {},
     "output_type": "execute_result"
    }
   ],
   "source": [
    "lda.show_topics(final_clusters_number, num_words=10, formatted=False)"
   ]
  },
  {
   "cell_type": "code",
   "execution_count": 25,
   "metadata": {
    "collapsed": true
   },
   "outputs": [],
   "source": [
    "# approximate names of the topics\n",
    "\n",
    "summaries_topics = [\n",
    "    'crashed into', 'crashed in route', 'structural failure', 'crashed landing', \n",
    "    'crashed takeoff', 'weather conditions', 'crashed shortly'\n",
    "]"
   ]
  },
  {
   "cell_type": "markdown",
   "metadata": {},
   "source": [
    "# Model interpretation"
   ]
  },
  {
   "cell_type": "code",
   "execution_count": 26,
   "metadata": {
    "collapsed": true
   },
   "outputs": [],
   "source": [
    "def compute_topic_summary_matrix(model, corpus, summaries):\n",
    "    ts_matrix = pd.DataFrame(data=np.zeros((final_clusters_number, len(summaries))), columns=range(len(summaries)))\n",
    "    \n",
    "    for i, (summary, bow) in enumerate(zip(summaries, corpus)):\n",
    "        summary_topics = model.get_document_topics(bow)\n",
    "        \n",
    "        for topic, prob in summary_topics:\n",
    "            ts_matrix[i][topic] += prob\n",
    "        \n",
    "    return ts_matrix"
   ]
  },
  {
   "cell_type": "code",
   "execution_count": 34,
   "metadata": {
    "collapsed": false
   },
   "outputs": [
    {
     "data": {
      "text/plain": [
       "([<matplotlib.axis.XTick at 0x7f5d94f82b00>,\n",
       "  <matplotlib.axis.XTick at 0x7f5d94f829b0>,\n",
       "  <matplotlib.axis.XTick at 0x7f5d94f6db38>,\n",
       "  <matplotlib.axis.XTick at 0x7f5d94f4e2e8>,\n",
       "  <matplotlib.axis.XTick at 0x7f5d94f43828>,\n",
       "  <matplotlib.axis.XTick at 0x7f5d94f52b38>,\n",
       "  <matplotlib.axis.XTick at 0x7f5d94f37f60>,\n",
       "  <matplotlib.axis.XTick at 0x7f5d94f5abe0>],\n",
       " <a list of 7 Text xticklabel objects>)"
      ]
     },
     "execution_count": 34,
     "metadata": {},
     "output_type": "execute_result"
    },
    {
     "data": {
      "image/png": "[encoded data removed]",
      "text/plain": [
       "<matplotlib.figure.Figure at 0x7f5d8f543da0>"
      ]
     },
     "metadata": {},
     "output_type": "display_data"
    }
   ],
   "source": [
    "plt.figure(figsize=(10, 6))\n",
    "seaborn.heatmap(compute_topic_summary_matrix(lda, corpus, df.Summary.values[:20]).transpose())\n",
    "plt.xticks(range(8), summaries_topics, rotation=50, ha='center')"
   ]
  },
  {
   "cell_type": "code",
   "execution_count": null,
   "metadata": {
    "collapsed": true
   },
   "outputs": [],
   "source": []
  },
  {
   "cell_type": "code",
   "execution_count": null,
   "metadata": {
    "collapsed": true
   },
   "outputs": [],
   "source": []
  },
  {
   "cell_type": "code",
   "execution_count": null,
   "metadata": {
    "collapsed": true
   },
   "outputs": [],
   "source": []
  },
  {
   "cell_type": "code",
   "execution_count": null,
   "metadata": {
    "collapsed": true
   },
   "outputs": [],
   "source": []
  },
  {
   "cell_type": "code",
   "execution_count": null,
   "metadata": {
    "collapsed": true
   },
   "outputs": [],
   "source": []
  },
  {
   "cell_type": "code",
   "execution_count": null,
   "metadata": {
    "collapsed": true
   },
   "outputs": [],
   "source": []
  },
  {
   "cell_type": "code",
   "execution_count": null,
   "metadata": {
    "collapsed": true
   },
   "outputs": [],
   "source": []
  }
 ],
 "metadata": {
  "kernelspec": {
   "display_name": "Python 3",
   "language": "python",
   "name": "python3"
  },
  "language_info": {
   "codemirror_mode": {
    "name": "ipython",
    "version": 3
   },
   "file_extension": ".py",
   "mimetype": "text/x-python",
   "name": "python",
   "nbconvert_exporter": "python",
   "pygments_lexer": "ipython3",
   "version": "3.5.2"
  }
 },
 "nbformat": 4,
 "nbformat_minor": 1
}
