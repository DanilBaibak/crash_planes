{
 "cells": [
  {
   "cell_type": "code",
   "execution_count": 61,
   "metadata": {
    "collapsed": true
   },
   "outputs": [],
   "source": [
    "import pandas as pd\n",
    "import numpy as np\n",
    "from collections import Counter\n",
    "import matplotlib.pyplot as plt\n",
    "import seaborn\n",
    "\n",
    "import planecrashinfo_light as pci\n",
    "\n",
    "from sklearn.cluster import KMeans\n",
    "from sklearn.externals import joblib\n",
    "\n",
    "from gensim import corpora, models, utils\n",
    "from gensim.models import TfidfModel, LsiModel\n",
    "\n",
    "import nltk\n",
    "from nltk.corpus import stopwords\n",
    "\n",
    "%matplotlib inline"
   ]
  },
  {
   "cell_type": "markdown",
   "metadata": {},
   "source": [
    "# Raw data"
   ]
  },
  {
   "cell_type": "code",
   "execution_count": 2,
   "metadata": {
    "collapsed": true
   },
   "outputs": [],
   "source": [
    "df = pd.read_csv('data/data.csv')"
   ]
  },
  {
   "cell_type": "markdown",
   "metadata": {},
   "source": [
    "# Clean(er) Data"
   ]
  },
  {
   "cell_type": "code",
   "execution_count": 3,
   "metadata": {
    "collapsed": false,
    "scrolled": true
   },
   "outputs": [
    {
     "data": {
      "text/html": [
       "<div>\n",
       "<table border=\"1\" class=\"dataframe\">\n",
       "  <thead>\n",
       "    <tr style=\"text-align: right;\">\n",
       "      <th></th>\n",
       "      <th>Time</th>\n",
       "      <th>Location</th>\n",
       "      <th>Operator</th>\n",
       "      <th>Route</th>\n",
       "      <th>AC_Type</th>\n",
       "      <th>Aboard</th>\n",
       "      <th>Fatalities</th>\n",
       "      <th>Ground</th>\n",
       "      <th>Summary</th>\n",
       "      <th>Origin</th>\n",
       "      <th>Destination</th>\n",
       "      <th>Fatalities_total</th>\n",
       "      <th>Location_Country</th>\n",
       "      <th>Accident_type</th>\n",
       "    </tr>\n",
       "    <tr>\n",
       "      <th>Date</th>\n",
       "      <th></th>\n",
       "      <th></th>\n",
       "      <th></th>\n",
       "      <th></th>\n",
       "      <th></th>\n",
       "      <th></th>\n",
       "      <th></th>\n",
       "      <th></th>\n",
       "      <th></th>\n",
       "      <th></th>\n",
       "      <th></th>\n",
       "      <th></th>\n",
       "      <th></th>\n",
       "      <th></th>\n",
       "    </tr>\n",
       "  </thead>\n",
       "  <tbody>\n",
       "    <tr>\n",
       "      <th>1921-02-03</th>\n",
       "      <td>NaN</td>\n",
       "      <td>Mendotta, Minnesota</td>\n",
       "      <td>US Aerial Mail Service</td>\n",
       "      <td>NaN</td>\n",
       "      <td>De Havilland DH-4</td>\n",
       "      <td>1 (passengers:0 crew:1)</td>\n",
       "      <td>1 (passengers:0 crew:1)</td>\n",
       "      <td>0.0</td>\n",
       "      <td>Shortly after takeoff from Minneapolis-World C...</td>\n",
       "      <td>NaN</td>\n",
       "      <td>NaN</td>\n",
       "      <td>1.0</td>\n",
       "      <td>USA</td>\n",
       "      <td>0</td>\n",
       "    </tr>\n",
       "    <tr>\n",
       "      <th>1921-02-09</th>\n",
       "      <td>NaN</td>\n",
       "      <td>La Crosse, Wisconsin</td>\n",
       "      <td>US Aerial Mail Service</td>\n",
       "      <td>NaN</td>\n",
       "      <td>Junkers F-13</td>\n",
       "      <td>3 (passengers:0 crew:3)</td>\n",
       "      <td>3 (passengers:0 crew:3)</td>\n",
       "      <td>0.0</td>\n",
       "      <td>Crashed for unknown reasons. Both pilots and t...</td>\n",
       "      <td>NaN</td>\n",
       "      <td>NaN</td>\n",
       "      <td>3.0</td>\n",
       "      <td>USA</td>\n",
       "      <td>0</td>\n",
       "    </tr>\n",
       "    <tr>\n",
       "      <th>1921-02-15</th>\n",
       "      <td>NaN</td>\n",
       "      <td>Gibraltar</td>\n",
       "      <td>Aeropostale</td>\n",
       "      <td>NaN</td>\n",
       "      <td>Breguet 14</td>\n",
       "      <td>2 (passengers:0 crew:2)</td>\n",
       "      <td>2 (passengers:0 crew:2)</td>\n",
       "      <td>0.0</td>\n",
       "      <td>The mail fligh encountered poor weather condit...</td>\n",
       "      <td>NaN</td>\n",
       "      <td>NaN</td>\n",
       "      <td>2.0</td>\n",
       "      <td>Gibraltar</td>\n",
       "      <td>0</td>\n",
       "    </tr>\n",
       "    <tr>\n",
       "      <th>1921-02-22</th>\n",
       "      <td>NaN</td>\n",
       "      <td>Elko, Nevada</td>\n",
       "      <td>US Aerial Mail Service</td>\n",
       "      <td>NaN</td>\n",
       "      <td>De Havilland DH-4</td>\n",
       "      <td>1 (passengers:0 crew:1)</td>\n",
       "      <td>1 (passengers:0 crew:1)</td>\n",
       "      <td>0.0</td>\n",
       "      <td>Shortly after taking off, the aircraft stalled...</td>\n",
       "      <td>NaN</td>\n",
       "      <td>NaN</td>\n",
       "      <td>1.0</td>\n",
       "      <td>USA</td>\n",
       "      <td>0</td>\n",
       "    </tr>\n",
       "    <tr>\n",
       "      <th>1921-04-06</th>\n",
       "      <td>NaN</td>\n",
       "      <td>Point Cook, Australia</td>\n",
       "      <td>Military - Royal Australian Air Force</td>\n",
       "      <td>NaN</td>\n",
       "      <td>Avro 504</td>\n",
       "      <td>2 (passengers:0 crew:0)</td>\n",
       "      <td>2 (passengers:0 crew:0)</td>\n",
       "      <td>0.0</td>\n",
       "      <td>Shortly after taking off on a training flight,...</td>\n",
       "      <td>NaN</td>\n",
       "      <td>NaN</td>\n",
       "      <td>2.0</td>\n",
       "      <td>Australia</td>\n",
       "      <td>0</td>\n",
       "    </tr>\n",
       "  </tbody>\n",
       "</table>\n",
       "</div>"
      ],
      "text/plain": [
       "           Time               Location                               Operator  \\\n",
       "Date                                                                            \n",
       "1921-02-03  NaN    Mendotta, Minnesota                 US Aerial Mail Service   \n",
       "1921-02-09  NaN   La Crosse, Wisconsin                 US Aerial Mail Service   \n",
       "1921-02-15  NaN              Gibraltar                            Aeropostale   \n",
       "1921-02-22  NaN           Elko, Nevada                 US Aerial Mail Service   \n",
       "1921-04-06  NaN  Point Cook, Australia  Military - Royal Australian Air Force   \n",
       "\n",
       "           Route            AC_Type                   Aboard  \\\n",
       "Date                                                           \n",
       "1921-02-03   NaN  De Havilland DH-4  1 (passengers:0 crew:1)   \n",
       "1921-02-09   NaN       Junkers F-13  3 (passengers:0 crew:3)   \n",
       "1921-02-15   NaN         Breguet 14  2 (passengers:0 crew:2)   \n",
       "1921-02-22   NaN  De Havilland DH-4  1 (passengers:0 crew:1)   \n",
       "1921-04-06   NaN           Avro 504  2 (passengers:0 crew:0)   \n",
       "\n",
       "                         Fatalities  Ground  \\\n",
       "Date                                          \n",
       "1921-02-03  1 (passengers:0 crew:1)     0.0   \n",
       "1921-02-09  3 (passengers:0 crew:3)     0.0   \n",
       "1921-02-15  2 (passengers:0 crew:2)     0.0   \n",
       "1921-02-22  1 (passengers:0 crew:1)     0.0   \n",
       "1921-04-06  2 (passengers:0 crew:0)     0.0   \n",
       "\n",
       "                                                      Summary Origin  \\\n",
       "Date                                                                   \n",
       "1921-02-03  Shortly after takeoff from Minneapolis-World C...    NaN   \n",
       "1921-02-09  Crashed for unknown reasons. Both pilots and t...    NaN   \n",
       "1921-02-15  The mail fligh encountered poor weather condit...    NaN   \n",
       "1921-02-22  Shortly after taking off, the aircraft stalled...    NaN   \n",
       "1921-04-06  Shortly after taking off on a training flight,...    NaN   \n",
       "\n",
       "           Destination  Fatalities_total Location_Country  Accident_type  \n",
       "Date                                                                      \n",
       "1921-02-03         NaN               1.0              USA              0  \n",
       "1921-02-09         NaN               3.0              USA              0  \n",
       "1921-02-15         NaN               2.0        Gibraltar              0  \n",
       "1921-02-22         NaN               1.0              USA              0  \n",
       "1921-04-06         NaN               2.0        Australia              0  "
      ]
     },
     "execution_count": 3,
     "metadata": {},
     "output_type": "execute_result"
    }
   ],
   "source": [
    "df = pci.clean_database(df)\n",
    "df.head()"
   ]
  },
  {
   "cell_type": "code",
   "execution_count": 4,
   "metadata": {
    "collapsed": false
   },
   "outputs": [
    {
     "name": "stdout",
     "output_type": "stream",
     "text": [
      "Total number of the data: 5686\n",
      "Number of the not empty summaries: 231\n"
     ]
    }
   ],
   "source": [
    "print('Total number of the data: {}'.format(df.shape[0]))\n",
    "print('Number of the not empty summaries: {}'.format(df[df.Summary.isnull()].shape[0]))"
   ]
  },
  {
   "cell_type": "markdown",
   "metadata": {},
   "source": [
    "## Let's try to cluster summaries\n",
    "We'll use Latent Dirichlet allocation (LDA). LDA is a topic model that generates topics based on word frequency from a set of documents. LDA is particularly useful for finding reasonably accurate mixtures of topics within a given document set."
   ]
  },
  {
   "cell_type": "code",
   "execution_count": 5,
   "metadata": {
    "collapsed": true
   },
   "outputs": [],
   "source": [
    "# set data without summary as empty row\n",
    "df.Summary.fillna('', inplace=True)"
   ]
  },
  {
   "cell_type": "code",
   "execution_count": 6,
   "metadata": {
    "collapsed": true
   },
   "outputs": [],
   "source": [
    "splitter = nltk.data.load('tokenizers/punkt/english.pickle')\n",
    "tokenizer = nltk.tokenize.TreebankWordTokenizer()\n",
    "stopset = set(stopwords.words('english'))"
   ]
  },
  {
   "cell_type": "code",
   "execution_count": 7,
   "metadata": {
    "collapsed": false
   },
   "outputs": [],
   "source": [
    "def text_to_words(text):   \n",
    "    tokenized_sentences = []\n",
    "    sentences = splitter.tokenize(text)\n",
    "    for sentence in sentences:\n",
    "        tokens = []\n",
    "        # remove punctuation and stopwords\n",
    "        for token in utils.tokenize(sentence, lowercase=True, deacc=True, errors=\"ignore\"):\n",
    "            if token not in stopset:                \n",
    "                tokens.append(token)\n",
    "                \n",
    "        \n",
    "        tokenized_sentences.extend(tokens)\n",
    "        tokenized_sentences.extend([' '.join(bigram) for bigram in nltk.ngrams(tokens, 2)])\n",
    "\n",
    "    return tokenized_sentences"
   ]
  },
  {
   "cell_type": "code",
   "execution_count": 8,
   "metadata": {
    "collapsed": true
   },
   "outputs": [],
   "source": [
    "texts = [text_to_words(text) for text in df.Summary.values]"
   ]
  },
  {
   "cell_type": "code",
   "execution_count": 9,
   "metadata": {
    "collapsed": true
   },
   "outputs": [],
   "source": [
    "# create dictionary\n",
    "dictionary = corpora.Dictionary(texts)"
   ]
  },
  {
   "cell_type": "code",
   "execution_count": 10,
   "metadata": {
    "collapsed": false
   },
   "outputs": [
    {
     "name": "stdout",
     "output_type": "stream",
     "text": [
      "aircraft\n",
      "crashed\n",
      "engine\n",
      "crew\n",
      "approach\n",
      "flight\n",
      "runway\n",
      "failure\n",
      "pilot\n",
      "plane\n"
     ]
    }
   ],
   "source": [
    "# get tokens that appear too often\n",
    "popular_tokens = [token for token, frequency in dictionary.dfs.items() if frequency > 680]\n",
    "\n",
    "for token in popular_tokens:\n",
    "    print(dictionary.get(token))"
   ]
  },
  {
   "cell_type": "code",
   "execution_count": 11,
   "metadata": {
    "collapsed": true
   },
   "outputs": [],
   "source": [
    "# remove from dictionary the tokens that appear too often\n",
    "dictionary.filter_tokens(popular_tokens)"
   ]
  },
  {
   "cell_type": "code",
   "execution_count": 12,
   "metadata": {
    "collapsed": true
   },
   "outputs": [],
   "source": [
    "# create documents corpus\n",
    "corpus = [dictionary.doc2bow(text) for text in texts]"
   ]
  },
  {
   "cell_type": "markdown",
   "metadata": {},
   "source": [
    "#### And next question is how many clusters do we have? So let's reduce number of the dimensions for visualization"
   ]
  },
  {
   "cell_type": "code",
   "execution_count": 13,
   "metadata": {
    "collapsed": true
   },
   "outputs": [],
   "source": [
    "tfidf = TfidfModel(corpus, dictionary=dictionary, normalize=True)\n",
    "corpus_tfidf = tfidf[corpus]"
   ]
  },
  {
   "cell_type": "markdown",
   "metadata": {},
   "source": [
    "We'll use module for Latent Semantic Analysis (aka Latent Semantic Indexing). It implements fast truncated SVD (Singular Value Decomposition)"
   ]
  },
  {
   "cell_type": "code",
   "execution_count": 53,
   "metadata": {
    "collapsed": true
   },
   "outputs": [],
   "source": [
    "np.random.seed(42)\n",
    "\n",
    "# project to 2 dimensions for visualization\n",
    "lsi_model = LsiModel(corpus_tfidf, id2word=dictionary, num_topics=2)"
   ]
  },
  {
   "cell_type": "code",
   "execution_count": 54,
   "metadata": {
    "collapsed": false
   },
   "outputs": [],
   "source": [
    "# save coordinates\n",
    "coords = []\n",
    "\n",
    "for coord in lsi_model[corpus]:\n",
    "    if len(coord) > 1:\n",
    "        coords.append((coord[0][1], coord[1][1]))"
   ]
  },
  {
   "cell_type": "code",
   "execution_count": 55,
   "metadata": {
    "collapsed": true
   },
   "outputs": [],
   "source": [
    "max_clusters = 10\n",
    "clusters_num = range(1, max_clusters + 1)\n",
    "inertias = np.zeros(max_clusters)"
   ]
  },
  {
   "cell_type": "code",
   "execution_count": 56,
   "metadata": {
    "collapsed": true
   },
   "outputs": [],
   "source": [
    "for cluster_num in clusters_num:\n",
    "    kmeans = KMeans(cluster_num, random_state=42).fit(coords)\n",
    "    # \"inertia_\" is sum of distances of samples to their closest cluster center\n",
    "    inertias[cluster_num - 1] = kmeans.inertia_"
   ]
  },
  {
   "cell_type": "code",
   "execution_count": 57,
   "metadata": {
    "collapsed": false
   },
   "outputs": [
    {
     "data": {
      "image/png": "[encoded data removed]",
      "text/plain": [
       "<matplotlib.figure.Figure at 0x7f4125920fd0>"
      ]
     },
     "metadata": {},
     "output_type": "display_data"
    }
   ],
   "source": [
    "plt.plot(clusters_num, inertias, \"b*-\")\n",
    "\n",
    "plt.ylabel(\"Inertia\")\n",
    "plt.xlabel(\"K\")\n",
    "plt.show()"
   ]
  },
  {
   "cell_type": "code",
   "execution_count": 58,
   "metadata": {
    "collapsed": false,
    "scrolled": false
   },
   "outputs": [],
   "source": [
    "# let's choose number of the clusters as 6\n",
    "final_clusters_number = 6\n",
    "\n",
    "kmeans = KMeans(final_clusters_number, random_state=42).fit(coords)"
   ]
  },
  {
   "cell_type": "code",
   "execution_count": 59,
   "metadata": {
    "collapsed": false
   },
   "outputs": [
    {
     "data": {
      "text/plain": [
       "Counter({0: 1037, 1: 1717, 2: 172, 3: 361, 4: 287, 5: 1881})"
      ]
     },
     "execution_count": 59,
     "metadata": {},
     "output_type": "execute_result"
    }
   ],
   "source": [
    "# distribution per class\n",
    "Counter(kmeans.labels_)"
   ]
  },
  {
   "cell_type": "code",
   "execution_count": 60,
   "metadata": {
    "collapsed": false
   },
   "outputs": [
    {
     "data": {
      "image/png": "[encoded data removed]",
      "text/plain": [
       "<matplotlib.figure.Figure at 0x7f41259ba9e8>"
      ]
     },
     "metadata": {},
     "output_type": "display_data"
    }
   ],
   "source": [
    "colors = [\"g\", \"r\", \"m\", \"c\", \"y\", \"k\"]\n",
    "\n",
    "for i in range(len(coords)):\n",
    "    plt.scatter(coords[i][0], coords[i][1], c=colors[kmeans.labels_[i]], s=10)\n",
    "    \n",
    "plt.show()"
   ]
  },
  {
   "cell_type": "markdown",
   "metadata": {},
   "source": [
    "#### Build LDA model with *num_topics = 7*"
   ]
  },
  {
   "cell_type": "code",
   "execution_count": 35,
   "metadata": {
    "collapsed": false
   },
   "outputs": [],
   "source": [
    "np.random.seed(42)\n",
    "\n",
    "lda = models.ldamodel.LdaModel(corpus_tfidf, id2word=dictionary, num_topics=final_clusters_number, passes=10)"
   ]
  },
  {
   "cell_type": "code",
   "execution_count": 63,
   "metadata": {
    "collapsed": false
   },
   "outputs": [
    {
     "data": {
      "text/plain": [
       "['dumps/lda.pkl']"
      ]
     },
     "execution_count": 63,
     "metadata": {},
     "output_type": "execute_result"
    }
   ],
   "source": [
    "joblib.dump(lda, 'dumps/lda.pkl')\n",
    "# lda = joblib.load('dumps/lda.pkl')"
   ]
  },
  {
   "cell_type": "code",
   "execution_count": 36,
   "metadata": {
    "collapsed": false,
    "scrolled": true
   },
   "outputs": [
    {
     "data": {
      "text/plain": [
       "[(0,\n",
       "  [('crashed takeoff', 0.0019627148510899133),\n",
       "   ('takeoff', 0.0014971220431443486),\n",
       "   ('mountain poor', 0.00077419310143919261),\n",
       "   ('poor weather', 0.00075855142118699587),\n",
       "   ('poor', 0.00071142943923526304),\n",
       "   ('weather', 0.00066648193278992149),\n",
       "   ('mountain', 0.00061560579528629545),\n",
       "   ('ft', 0.0005779274754642822),\n",
       "   ('landing', 0.00048048182931915913),\n",
       "   ('crashed burned', 0.00046000037823708631)]),\n",
       " (1,\n",
       "  [('crashed shortly', 0.001054787198294648),\n",
       "   ('taking', 0.0010225011707444053),\n",
       "   ('shot', 0.00098489588862058245),\n",
       "   ('shortly', 0.0009213643819228173),\n",
       "   ('shortly taking', 0.00082935510809260609),\n",
       "   ('rebels', 0.00056728356805099754),\n",
       "   ('takeoff', 0.00048241039372204158),\n",
       "   ('forces', 0.00047834136067647997),\n",
       "   ('crashed taking', 0.00046165310804528314),\n",
       "   ('crashed take', 0.00043040271906388984)]),\n",
       " (2,\n",
       "  [('control', 0.0010502088750443317),\n",
       "   ('landing', 0.00092092187905057344),\n",
       "   ('takeoff', 0.0009146352097339918),\n",
       "   ('taking', 0.00090008645589918031),\n",
       "   ('airport', 0.00089582445651587613),\n",
       "   ('cargo', 0.00079947455997207413),\n",
       "   ('loss', 0.0007929171135743747),\n",
       "   ('engine failure', 0.0007754645440090737),\n",
       "   ('lost', 0.0007507932824560048),\n",
       "   ('emergency', 0.00074530935511506983)]),\n",
       " (3,\n",
       "  [('mountain', 0.0018874761122867317),\n",
       "   ('weather', 0.0013794695081746587),\n",
       "   ('struck', 0.0012922257034500698),\n",
       "   ('conditions', 0.0012582128002179029),\n",
       "   ('crashed mountain', 0.0011850419722558676),\n",
       "   ('struck mountain', 0.0010828233147423577),\n",
       "   ('vfr', 0.0010695278489258856),\n",
       "   ('weather conditions', 0.0010335208682359194),\n",
       "   ('vfr flight', 0.0010314754919316961),\n",
       "   ('adverse weather', 0.00094256458803784705)]),\n",
       " (4,\n",
       "  [('cargo', 0.0016886585286911954),\n",
       "   ('cargo plane', 0.0016642886151924806),\n",
       "   ('crashed en', 0.0016306859176653998),\n",
       "   ('en route', 0.0015256158586003919),\n",
       "   ('en', 0.0015242060318883235),\n",
       "   ('route', 0.0014915714680539341),\n",
       "   ('crashed sea', 0.0014141533291409597),\n",
       "   ('attempting', 0.0013950369684239401),\n",
       "   ('land', 0.0013677125744226055),\n",
       "   ('attempting land', 0.0013442038206933119)]),\n",
       " (5,\n",
       "  [('crashed approach', 0.0010846626608930639),\n",
       "   ('route', 0.00099963700396901289),\n",
       "   ('mountain', 0.00096211368805744035),\n",
       "   ('en route', 0.00094225686483102704),\n",
       "   ('en', 0.00094031223631040137),\n",
       "   ('mountains', 0.00072381263546614021),\n",
       "   ('mountain en', 0.00067956609645579912),\n",
       "   ('crashed mountain', 0.00062850719720220481),\n",
       "   ('crashed mountains', 0.00057469077337268478),\n",
       "   ('mountainside', 0.00047827880468909954)])]"
      ]
     },
     "execution_count": 36,
     "metadata": {},
     "output_type": "execute_result"
    }
   ],
   "source": [
    "lda.show_topics(final_clusters_number, num_words=10, formatted=False)"
   ]
  },
  {
   "cell_type": "code",
   "execution_count": 37,
   "metadata": {
    "collapsed": true
   },
   "outputs": [],
   "source": [
    "# approximate names of the topics\n",
    "\n",
    "summaries_topics = [\n",
    "    'takeoff',\n",
    "    'crashed shortly',\n",
    "    'landing',\n",
    "    'weather conditions',\n",
    "    'in route',\n",
    "    'crashed in'\n",
    "]"
   ]
  },
  {
   "cell_type": "markdown",
   "metadata": {},
   "source": [
    "# Model interpretation"
   ]
  },
  {
   "cell_type": "code",
   "execution_count": 47,
   "metadata": {
    "collapsed": true
   },
   "outputs": [],
   "source": [
    "def compute_topic_summary_matrix(model, corpus, summaries_number):\n",
    "    ts_matrix = pd.DataFrame(\n",
    "        data=np.zeros((final_clusters_number, summaries_number)), columns=range(summaries_number)\n",
    "    )\n",
    "    \n",
    "    for i in range(summaries_number):\n",
    "        summary_topics = model.get_document_topics(corpus[i])\n",
    "        \n",
    "        for topic, prob in summary_topics:\n",
    "            ts_matrix[i][topic] += prob\n",
    "        \n",
    "    return ts_matrix"
   ]
  },
  {
   "cell_type": "code",
   "execution_count": 50,
   "metadata": {
    "collapsed": false,
    "scrolled": false
   },
   "outputs": [
    {
     "data": {
      "text/plain": [
       "([<matplotlib.axis.XTick at 0x7f41259e5cc0>,\n",
       "  <matplotlib.axis.XTick at 0x7f41259fce10>,\n",
       "  <matplotlib.axis.XTick at 0x7f41259ec390>,\n",
       "  <matplotlib.axis.XTick at 0x7f41259cb828>,\n",
       "  <matplotlib.axis.XTick at 0x7f41259c50b8>,\n",
       "  <matplotlib.axis.XTick at 0x7f41259d1dd8>,\n",
       "  <matplotlib.axis.XTick at 0x7f41259d7da0>],\n",
       " <a list of 6 Text xticklabel objects>)"
      ]
     },
     "execution_count": 50,
     "metadata": {},
     "output_type": "execute_result"
    },
    {
     "data": {
      "image/png": "[encoded data removed]",
      "text/plain": [
       "<matplotlib.figure.Figure at 0x7f41250e77b8>"
      ]
     },
     "metadata": {},
     "output_type": "display_data"
    }
   ],
   "source": [
    "plt.figure(figsize=(10, 6))\n",
    "seaborn.heatmap(compute_topic_summary_matrix(lda, corpus, 20).transpose())\n",
    "plt.xticks(range(7), summaries_topics, rotation=50, ha='center')"
   ]
  },
  {
   "cell_type": "code",
   "execution_count": 38,
   "metadata": {
    "collapsed": true
   },
   "outputs": [],
   "source": [
    "def get_topic_summary(summary_number):\n",
    "    summary_topics = lda.get_document_topics(corpus[summary_number])\n",
    "    summary_topics.sort(key=lambda tup: tup[1], reverse=True)\n",
    "        \n",
    "    return summaries_topics[summary_topics[0][0]]"
   ]
  },
  {
   "cell_type": "code",
   "execution_count": 39,
   "metadata": {
    "collapsed": false
   },
   "outputs": [],
   "source": [
    "df['Summary_topic'] = 0\n",
    "\n",
    "for i in range(df.shape[0]):\n",
    "   df.loc[df.index[i], 'Summary_topic'] = get_topic_summary(i)"
   ]
  },
  {
   "cell_type": "code",
   "execution_count": 45,
   "metadata": {
    "collapsed": false
   },
   "outputs": [
    {
     "data": {
      "text/plain": [
       "<matplotlib.axes._subplots.AxesSubplot at 0x7f4125731e10>"
      ]
     },
     "execution_count": 45,
     "metadata": {},
     "output_type": "execute_result"
    },
    {
     "data": {
      "image/png": "[encoded data removed]",
      "text/plain": [
       "<matplotlib.figure.Figure at 0x7f4125824da0>"
      ]
     },
     "metadata": {},
     "output_type": "display_data"
    }
   ],
   "source": [
    "df.Summary_topic.value_counts().sort_values(ascending=True).plot.barh()"
   ]
  },
  {
   "cell_type": "code",
   "execution_count": 42,
   "metadata": {
    "collapsed": false
   },
   "outputs": [
    {
     "data": {
      "text/plain": [
       "<matplotlib.axes._subplots.AxesSubplot at 0x7f41252a8550>"
      ]
     },
     "execution_count": 42,
     "metadata": {},
     "output_type": "execute_result"
    },
    {
     "data": {
      "image/png": "[encoded data removed]",
      "text/plain": [
       "<matplotlib.figure.Figure at 0x7f41250d0748>"
      ]
     },
     "metadata": {},
     "output_type": "display_data"
    }
   ],
   "source": [
    "s = df.groupby(by=['Summary_topic']).Fatalities_total.sum().sort_values(ascending=True, na_position='first')[-20:]\n",
    "s.plot.barh(title='Biggest 20 CA types by the number of #fatalities')"
   ]
  },
  {
   "cell_type": "code",
   "execution_count": 98,
   "metadata": {
    "collapsed": false
   },
   "outputs": [
    {
     "data": {
      "image/png": "[encoded data removed]",
      "text/plain": [
       "<matplotlib.figure.Figure at 0x7fda7c191eb8>"
      ]
     },
     "metadata": {},
     "output_type": "display_data"
    }
   ],
   "source": [
    "from pandas import Timestamp\n",
    "\n",
    "df = pd.DataFrame({'animal': ['dog', 'rabbit', 'rabbit', 'rabbit', 'rabbit', 'rabbit', 'dog', 'rabbit', 'dog', 'dog', 'rabbit', 'dog', 'dog', 'rabbit', 'rabbit', 'dog', 'dog', 'rabbit', 'rabbit', 'rabbit', 'rabbit', 'rabbit', 'rabbit', 'rabbit', 'dog', 'dog', 'dog', 'rabbit', 'rabbit', 'dog'], 'count': [6136, 14620, 16437, 17273, 15302, 15180, 7177, 16193, 8226, 9741, 26237, 12146, 12910, 25820, 29323, 17294, 15219, 26174, 27112, 27131, 28268, 34059, 39162, 38314, 19807, 20606, 21552, 36499, 42163, 30301], 'date': [Timestamp('2014-11-12 00:00:00'), Timestamp('2014-11-13 00:00:00'), Timestamp('2014-11-14 00:00:00'), Timestamp('2014-11-15 00:00:00'), Timestamp('2014-11-16 00:00:00'), Timestamp('2014-11-17 00:00:00'), Timestamp('2014-11-18 00:00:00'), Timestamp('2014-11-19 00:00:00'), Timestamp('2014-11-20 00:00:00'), Timestamp('2014-11-21 00:00:00'), Timestamp('2014-12-01 00:00:00'), Timestamp('2014-12-02 00:00:00'), Timestamp('2014-12-03 00:00:00'), Timestamp('2014-12-04 00:00:00'), Timestamp('2014-12-05 00:00:00'), Timestamp('2014-12-06 00:00:00'), Timestamp('2014-12-07 00:00:00'), Timestamp('2014-12-08 00:00:00'), Timestamp('2014-12-09 00:00:00'), Timestamp('2014-12-10 00:00:00'), Timestamp('2014-12-11 00:00:00'), Timestamp('2014-12-12 00:00:00'), Timestamp('2014-12-13 00:00:00'), Timestamp('2014-12-14 00:00:00'), Timestamp('2014-12-15 00:00:00'), Timestamp('2014-12-16 00:00:00'), Timestamp('2014-12-17 00:00:00'), Timestamp('2014-12-18 00:00:00'), Timestamp('2014-12-19 00:00:00'), Timestamp('2014-12-20 00:00:00')]})\n",
    "df = df.set_index('date')\n",
    "\n",
    "grouped = df.groupby(['animal'])\n",
    "fig, ax = plt.subplots()\n",
    "for key, group in grouped:\n",
    "    group['count'].plot(label=key, ax=ax)\n",
    "\n",
    "plt.legend(loc='best')\n",
    "\n",
    "plt.show()"
   ]
  },
  {
   "cell_type": "code",
   "execution_count": 100,
   "metadata": {
    "collapsed": false
   },
   "outputs": [
    {
     "data": {
      "text/plain": [
       "<pandas.core.groupby.DataFrameGroupBy object at 0x7fda7c635f98>"
      ]
     },
     "execution_count": 100,
     "metadata": {},
     "output_type": "execute_result"
    }
   ],
   "source": []
  },
  {
   "cell_type": "code",
   "execution_count": null,
   "metadata": {
    "collapsed": true
   },
   "outputs": [],
   "source": []
  },
  {
   "cell_type": "code",
   "execution_count": null,
   "metadata": {
    "collapsed": true
   },
   "outputs": [],
   "source": []
  },
  {
   "cell_type": "code",
   "execution_count": null,
   "metadata": {
    "collapsed": true
   },
   "outputs": [],
   "source": []
  },
  {
   "cell_type": "code",
   "execution_count": null,
   "metadata": {
    "collapsed": true
   },
   "outputs": [],
   "source": []
  },
  {
   "cell_type": "code",
   "execution_count": null,
   "metadata": {
    "collapsed": true
   },
   "outputs": [],
   "source": []
  }
 ],
 "metadata": {
  "kernelspec": {
   "display_name": "Python 3",
   "language": "python",
   "name": "python3"
  },
  "language_info": {
   "codemirror_mode": {
    "name": "ipython",
    "version": 3
   },
   "file_extension": ".py",
   "mimetype": "text/x-python",
   "name": "python",
   "nbconvert_exporter": "python",
   "pygments_lexer": "ipython3",
   "version": "3.5.2"
  }
 },
 "nbformat": 4,
 "nbformat_minor": 1
}
